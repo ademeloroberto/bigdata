{
 "cells": [
  {
   "cell_type": "code",
   "execution_count": 1,
   "metadata": {},
   "outputs": [],
   "source": [
    "import random\n",
    "random.seed(1000)\n",
    "import matplotlib.pyplot as plt"
   ]
  },
  {
   "cell_type": "markdown",
   "metadata": {},
   "source": [
    "# Create Data"
   ]
  },
  {
   "cell_type": "code",
   "execution_count": 2,
   "metadata": {},
   "outputs": [],
   "source": [
    "# number of elements in list\n",
    "n = 50\n",
    "\n",
    "# list of unsorted items\n",
    "items = [int(random.random()*n) for _ in range(n)]\n",
    "\n",
    "# value to be searched in list\n",
    "value = int(random.random()*n)\n",
    "\n",
    "# sorted list \n",
    "sorted_items = sorted(items)"
   ]
  },
  {
   "cell_type": "markdown",
   "metadata": {},
   "source": [
    "# Find Value in Unsorted List with Linear Search\n",
    "\n",
    "Animation: https://yongdanielliang.github.io/animation/web/LinearSearchNew.html"
   ]
  },
  {
   "cell_type": "code",
   "execution_count": 3,
   "metadata": {},
   "outputs": [],
   "source": [
    "def get_item(items, index):\n",
    "    \"\"\"value of of an item in a list based on the index of the value\n",
    "        args:\n",
    "            - items: List of items\n",
    "            - index: index of the requested item\n",
    "        return:\n",
    "            - value of the requested item\n",
    "    \"\"\"\n",
    "    if index == -1:\n",
    "        print(\"Not in the list\")\n",
    "        return None\n",
    "    else:\n",
    "        return items[index] "
   ]
  },
  {
   "cell_type": "code",
   "execution_count": 4,
   "metadata": {},
   "outputs": [],
   "source": [
    "def find_element(items, value):\n",
    "    \"\"\"Linear search for a value in a list of items\n",
    "        args:\n",
    "            - items: unsorted list of items\n",
    "            - value: searched value\n",
    "        return:\n",
    "            - index of value or -1 if not in list\n",
    "    \"\"\"\n",
    "    for i in range(len(items)):\n",
    "        if items[i] == value:\n",
    "            return i\n",
    "    return -1\n",
    "    pass"
   ]
  },
  {
   "cell_type": "code",
   "execution_count": 5,
   "metadata": {},
   "outputs": [
    {
     "name": "stdout",
     "output_type": "stream",
     "text": [
      "36\n"
     ]
    }
   ],
   "source": [
    "index = find_element(items, value)\n",
    "print(index)"
   ]
  },
  {
   "cell_type": "code",
   "execution_count": 6,
   "metadata": {
    "scrolled": true
   },
   "outputs": [
    {
     "name": "stdout",
     "output_type": "stream",
     "text": [
      "14\n"
     ]
    },
    {
     "data": {
      "text/plain": [
       "14"
      ]
     },
     "execution_count": 6,
     "metadata": {},
     "output_type": "execute_result"
    }
   ],
   "source": [
    "print(value)\n",
    "get_item(items, index)"
   ]
  },
  {
   "cell_type": "markdown",
   "metadata": {},
   "source": [
    "### Question: \n",
    "* Time your function with differently sized inputs by\n",
    "* searching for each input size for a non-existing element\n",
    "* and plot the change of the time to the size of the input\n",
    "\n",
    "(see 1 Timing Algorithms)"
   ]
  },
  {
   "cell_type": "code",
   "execution_count": 7,
   "metadata": {},
   "outputs": [],
   "source": [
    "list_of_n = [10, 50, 100, 200, 300, 400, 600, 800]"
   ]
  },
  {
   "cell_type": "code",
   "execution_count": 8,
   "metadata": {},
   "outputs": [
    {
     "name": "stdout",
     "output_type": "stream",
     "text": [
      "2.1 µs ± 245 ns per loop (mean ± std. dev. of 7 runs, 100000 loops each)\n",
      "7.37 µs ± 1.38 µs per loop (mean ± std. dev. of 7 runs, 100000 loops each)\n",
      "11.5 µs ± 1.9 µs per loop (mean ± std. dev. of 7 runs, 100000 loops each)\n",
      "18.8 µs ± 3.63 µs per loop (mean ± std. dev. of 7 runs, 100000 loops each)\n",
      "22.4 µs ± 1.33 µs per loop (mean ± std. dev. of 7 runs, 10000 loops each)\n",
      "34.3 µs ± 2.07 µs per loop (mean ± std. dev. of 7 runs, 10000 loops each)\n",
      "51.5 µs ± 2.46 µs per loop (mean ± std. dev. of 7 runs, 10000 loops each)\n",
      "71.4 µs ± 3.38 µs per loop (mean ± std. dev. of 7 runs, 10000 loops each)\n"
     ]
    },
    {
     "data": {
      "image/png": "[encoded data removed]",
      "text/plain": [
       "<Figure size 432x288 with 1 Axes>"
      ]
     },
     "metadata": {
      "needs_background": "light"
     },
     "output_type": "display_data"
    }
   ],
   "source": [
    "# Answer\n",
    "measures = []\n",
    "for n in list_of_n:\n",
    "    items = [int(random.random()*n) for _ in range(n)]\n",
    "    time = %timeit -o find_element(items,\"a\")\n",
    "    measures.append((n, time.average))\n",
    "plt.plot(*zip(*measures))\n",
    "plt.ylim(ymin=0)\n",
    "plt.show()"
   ]
  },
  {
   "cell_type": "markdown",
   "metadata": {},
   "source": [
    "### Question: What is the time complexity of searching for a value in an unsorted list?\n",
    "\n",
    "Big O Notation"
   ]
  },
  {
   "cell_type": "markdown",
   "metadata": {},
   "source": [
    "Answer: O(n) - linear, since the algorithm runs through the whole list, it increases proportionally to the size of the list."
   ]
  },
  {
   "cell_type": "markdown",
   "metadata": {},
   "source": [
    "# Find Value in Sorted list with Binary Search"
   ]
  },
  {
   "cell_type": "markdown",
   "metadata": {},
   "source": [
    "Animation: https://yongdanielliang.github.io/animation/web/BinarySearchNew.html"
   ]
  },
  {
   "cell_type": "code",
   "execution_count": 9,
   "metadata": {},
   "outputs": [],
   "source": [
    "def find_sorted(items, value):\n",
    "    \"\"\"Bineary search for a value in a list of sorted items\n",
    "        args:\n",
    "            - items: sorted list of items\n",
    "            - value: searched value\n",
    "        return:\n",
    "            - index of value or -1 if not in list\n",
    "    \"\"\"\n",
    "    found = False\n",
    "    first = 0\n",
    "    last = len(items)-1\n",
    "    \n",
    "    while (first <= last and not found):\n",
    "        mid = (first + last)//2\n",
    "        \n",
    "        if value == items[mid]:\n",
    "            found = True\n",
    "        \n",
    "        elif value > items[mid]:\n",
    "            first = mid + 1\n",
    "            \n",
    "        else:\n",
    "            last = mid -1\n",
    "            \n",
    "    if found == True:\n",
    "        return mid\n",
    "    else:\n",
    "        return -1"
   ]
  },
  {
   "cell_type": "code",
   "execution_count": 10,
   "metadata": {},
   "outputs": [
    {
     "data": {
      "text/plain": [
       "-1"
      ]
     },
     "execution_count": 10,
     "metadata": {},
     "output_type": "execute_result"
    }
   ],
   "source": [
    "# a value that is not in the list so that we get the worst case time\n",
    "value = n+1 \n",
    "find_sorted(sorted_items, value)"
   ]
  },
  {
   "cell_type": "code",
   "execution_count": 11,
   "metadata": {},
   "outputs": [
    {
     "data": {
      "text/plain": [
       "-1"
      ]
     },
     "execution_count": 11,
     "metadata": {},
     "output_type": "execute_result"
    }
   ],
   "source": [
    "n = 100\n",
    "items = [int(random.random()*n) for _ in range(n)]\n",
    "value = n+1 \n",
    "find_sorted(sorted_items, value)"
   ]
  },
  {
   "cell_type": "code",
   "execution_count": 12,
   "metadata": {},
   "outputs": [
    {
     "data": {
      "text/plain": [
       "-1"
      ]
     },
     "execution_count": 12,
     "metadata": {},
     "output_type": "execute_result"
    }
   ],
   "source": [
    "n = 200\n",
    "items = [int(random.random()*n) for _ in range(n)]\n",
    "value = n+1 \n",
    "find_sorted(sorted_items, value)"
   ]
  },
  {
   "cell_type": "markdown",
   "metadata": {},
   "source": [
    "### Question: \n",
    "* Time your function with differently sized inputs by\n",
    "* searching for each input size for a non-existing element\n",
    "* and plot the change of the time to the size of the input\n",
    "\n",
    "(see 1 Timing Algorithms)"
   ]
  },
  {
   "cell_type": "code",
   "execution_count": 13,
   "metadata": {},
   "outputs": [],
   "source": [
    "list_of_n = [10, 50, 100, 200, 300, 400, 600, 800]"
   ]
  },
  {
   "cell_type": "code",
   "execution_count": 14,
   "metadata": {},
   "outputs": [
    {
     "name": "stdout",
     "output_type": "stream",
     "text": [
      "873 ns ± 46.2 ns per loop (mean ± std. dev. of 7 runs, 1000000 loops each)\n",
      "2.3 µs ± 206 ns per loop (mean ± std. dev. of 7 runs, 100000 loops each)\n",
      "2.09 µs ± 97.5 ns per loop (mean ± std. dev. of 7 runs, 100000 loops each)\n",
      "2.43 µs ± 204 ns per loop (mean ± std. dev. of 7 runs, 1000000 loops each)\n",
      "2.47 µs ± 432 ns per loop (mean ± std. dev. of 7 runs, 100000 loops each)\n",
      "2.32 µs ± 269 ns per loop (mean ± std. dev. of 7 runs, 100000 loops each)\n",
      "2.42 µs ± 532 ns per loop (mean ± std. dev. of 7 runs, 100000 loops each)\n",
      "2.53 µs ± 981 ns per loop (mean ± std. dev. of 7 runs, 100000 loops each)\n"
     ]
    },
    {
     "data": {
      "image/png": "[encoded data removed]",
      "text/plain": [
       "<Figure size 432x288 with 1 Axes>"
      ]
     },
     "metadata": {
      "needs_background": "light"
     },
     "output_type": "display_data"
    }
   ],
   "source": [
    "# Answer\n",
    "measures = []\n",
    "for n in list_of_n:\n",
    "    items = [int(random.random()*n) for _ in range(n)]\n",
    "    value = n+1\n",
    "    time = %timeit -o find_sorted(sorted_items,value)\n",
    "    measures.append((n, time.average))\n",
    "plt.plot(*zip(*measures))\n",
    "plt.ylim(ymin=0)\n",
    "plt.show()"
   ]
  },
  {
   "cell_type": "markdown",
   "metadata": {},
   "source": [
    "### Question: What is the time complexity of binary search? \n",
    "\n",
    "Big O Notation"
   ]
  },
  {
   "cell_type": "markdown",
   "metadata": {
    "collapsed": true
   },
   "source": [
    "Answer: O(log n) - Logarithmic "
   ]
  }
 ],
 "metadata": {
  "kernelspec": {
   "display_name": "Python 3",
   "language": "python",
   "name": "python3"
  },
  "language_info": {
   "codemirror_mode": {
    "name": "ipython",
    "version": 3
   },
   "file_extension": ".py",
   "mimetype": "text/x-python",
   "name": "python",
   "nbconvert_exporter": "python",
   "pygments_lexer": "ipython3",
   "version": "3.7.6"
  },
  "varInspector": {
   "cols": {
    "lenName": 16,
    "lenType": 16,
    "lenVar": 40
   },
   "kernels_config": {
    "python": {
     "delete_cmd_postfix": "",
     "delete_cmd_prefix": "del ",
     "library": "var_list.py",
     "varRefreshCmd": "print(var_dic_list())"
    },
    "r": {
     "delete_cmd_postfix": ") ",
     "delete_cmd_prefix": "rm(",
     "library": "var_list.r",
     "varRefreshCmd": "cat(var_dic_list()) "
    }
   },
   "oldHeight": 123.2,
   "position": {
    "height": "40px",
    "left": "1012.5px",
    "right": "20px",
    "top": "120px",
    "width": "250px"
   },
   "types_to_exclude": [
    "module",
    "function",
    "builtin_function_or_method",
    "instance",
    "_Feature"
   ],
   "varInspector_section_display": "none",
   "window_display": false
  }
 },
 "nbformat": 4,
 "nbformat_minor": 2
}
