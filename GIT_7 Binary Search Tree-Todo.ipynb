{
 "cells": [
  {
   "cell_type": "markdown",
   "metadata": {},
   "source": [
    "Animation: https://www.cs.usfca.edu/~galles/visualization/BST.html"
   ]
  },
  {
   "cell_type": "code",
   "execution_count": 1,
   "metadata": {},
   "outputs": [],
   "source": [
    "class Node:\n",
    "    \"\"\"\n",
    "    Tree node with left and right child and data\n",
    "    \"\"\"\n",
    "    def __init__(self, data):\n",
    "        self.data = data       # data\n",
    "        self.leftChild = None  # left child\n",
    "        self.rightChild = None # right child\n",
    "        "
   ]
  },
  {
   "cell_type": "code",
   "execution_count": 16,
   "metadata": {},
   "outputs": [],
   "source": [
    "class Tree:\n",
    "    def __init__(self):\n",
    "        \"\"\"Create an empty binary search tree\"\"\"\n",
    "        self.root = None\n",
    "    \n",
    "    def insert(self, item):\n",
    "        \"\"\"Add an item in the binary search tree\"\"\"\n",
    "        \n",
    "        item = Node(item) #Transform argument into a Node\n",
    "        \n",
    "        found = False #Setting a boolean for the while loop later\n",
    "        \n",
    "        \n",
    "        if self.root == None: #if there is no root \n",
    "            self.root = item  # node becomes root\n",
    "            \n",
    "        else:\n",
    "            current = self.root  #set current as root\n",
    "            \n",
    "            \n",
    "            while found == False: # continues loop until node is inserted (Could also be while current==none)\n",
    "                \n",
    "                if item.data < current.data : # if the node is lower than the current node\n",
    "                    if (current.leftChild is None):  # and left child is none\n",
    "                        current.leftChild = item     # insert node as left child\n",
    "                        found = True\n",
    "                    else:    \n",
    "                        current = current.leftChild # Otherwise, current becomes the left child and repeat loop\n",
    "                        \n",
    "\n",
    "                    \n",
    "                else:                                # if node is higher than root\n",
    "                    if (current.rightChild is None): # and right child is none\n",
    "                        current.rightChild = item    # intert node as right child\n",
    "                        found = True\n",
    "                    else:    \n",
    "                        current = current.rightChild # otherwise, current becomes the left child and repeat loop\n",
    "                        \n",
    "                \n",
    "    \n",
    "    def find(self, item):\n",
    "        \"\"\"Returns true if item is in the tree or false otherwise\"\"\"\n",
    "        \n",
    "        found = False #Setting a boolean for the return\n",
    "        current = self.root #set current as root\n",
    "        \n",
    "       \n",
    "        while (current != None):            # While we haven't reached the bottom of the tree\n",
    "            if item == current.data:        # if the passed argument matches the current node's data\n",
    "                found = True          \n",
    "                return found                # Return true  \n",
    "        \n",
    "            elif item < current.data:       # if passed argument is lower than the current node's data\n",
    "                current = current.leftChild # current becomes its left child\n",
    "        \n",
    "            else:                           # Otherwise, current becomes the right child\n",
    "                current = current.rightChild\n",
    "        \n",
    "        return found                        # if we reach the bottom of the tree and haven't found the item, return false \n",
    "    \n",
    "    "
   ]
  },
  {
   "cell_type": "code",
   "execution_count": 17,
   "metadata": {},
   "outputs": [],
   "source": [
    "tree = Tree()"
   ]
  },
  {
   "cell_type": "code",
   "execution_count": 18,
   "metadata": {},
   "outputs": [],
   "source": [
    "tree.insert(30)\n",
    "tree.insert(5)\n",
    "tree.insert(50)\n",
    "tree.insert(8)\n",
    "tree.insert(3)\n",
    "tree.insert(100)\n",
    "tree.insert(40)"
   ]
  },
  {
   "cell_type": "code",
   "execution_count": 19,
   "metadata": {},
   "outputs": [
    {
     "data": {
      "text/plain": [
       "True"
      ]
     },
     "execution_count": 19,
     "metadata": {},
     "output_type": "execute_result"
    }
   ],
   "source": [
    "tree.find(8)"
   ]
  },
  {
   "cell_type": "code",
   "execution_count": 20,
   "metadata": {},
   "outputs": [
    {
     "data": {
      "text/plain": [
       "False"
      ]
     },
     "execution_count": 20,
     "metadata": {},
     "output_type": "execute_result"
    }
   ],
   "source": [
    "tree.find(9)"
   ]
  },
  {
   "cell_type": "markdown",
   "metadata": {},
   "source": [
    "## Why is the worst case time complexity of the find method only $O(n)$ and not $O(log n)$?"
   ]
  },
  {
   "cell_type": "markdown",
   "metadata": {
    "collapsed": true
   },
   "source": [
    "This task is comparable to searching an element in a sorted array. Because of the binary search tree rule, there will never be a need to search through the whole tree. "
   ]
  }
 ],
 "metadata": {
  "kernelspec": {
   "display_name": "Python 3",
   "language": "python",
   "name": "python3"
  },
  "language_info": {
   "codemirror_mode": {
    "name": "ipython",
    "version": 3
   },
   "file_extension": ".py",
   "mimetype": "text/x-python",
   "name": "python",
   "nbconvert_exporter": "python",
   "pygments_lexer": "ipython3",
   "version": "3.7.6"
  },
  "varInspector": {
   "cols": {
    "lenName": 16,
    "lenType": 16,
    "lenVar": 40
   },
   "kernels_config": {
    "python": {
     "delete_cmd_postfix": "",
     "delete_cmd_prefix": "del ",
     "library": "var_list.py",
     "varRefreshCmd": "print(var_dic_list())"
    },
    "r": {
     "delete_cmd_postfix": ") ",
     "delete_cmd_prefix": "rm(",
     "library": "var_list.r",
     "varRefreshCmd": "cat(var_dic_list()) "
    }
   },
   "types_to_exclude": [
    "module",
    "function",
    "builtin_function_or_method",
    "instance",
    "_Feature"
   ],
   "window_display": false
  }
 },
 "nbformat": 4,
 "nbformat_minor": 2
}
